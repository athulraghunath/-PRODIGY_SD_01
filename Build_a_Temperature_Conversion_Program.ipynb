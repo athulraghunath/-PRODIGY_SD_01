{
  "nbformat": 4,
  "nbformat_minor": 0,
  "metadata": {
    "colab": {
      "provenance": []
    },
    "kernelspec": {
      "name": "python3",
      "display_name": "Python 3"
    },
    "language_info": {
      "name": "python"
    }
  },
  "cells": [
    {
      "cell_type": "code",
      "execution_count": 2,
      "metadata": {
        "colab": {
          "base_uri": "https://localhost:8080/"
        },
        "id": "3_cHVAcqWWPM",
        "outputId": "90f90f52-24cd-454b-d8db-0a5baa475bbd"
      },
      "outputs": [
        {
          "output_type": "stream",
          "name": "stdout",
          "text": [
            "Welcome to the Temperature Conversion Program!\n",
            "Enter the temperature value: 35\n",
            "Enter the unit (Celsius, Fahrenheit, Kelvin): celsius\n",
            "\n",
            "35.0°C is equal to:\n",
            "95.00°F\n",
            "308.15 K\n"
          ]
        }
      ],
      "source": [
        "def celsius_to_fahrenheit(celsius):\n",
        "    return (celsius * 9/5) + 32\n",
        "\n",
        "def celsius_to_kelvin(celsius):\n",
        "    return celsius + 273.15\n",
        "\n",
        "def fahrenheit_to_celsius(fahrenheit):\n",
        "    return (fahrenheit - 32) * 5/9\n",
        "\n",
        "def fahrenheit_to_kelvin(fahrenheit):\n",
        "    return (fahrenheit - 32) * 5/9 + 273.15\n",
        "\n",
        "def kelvin_to_celsius(kelvin):\n",
        "    return kelvin - 273.15\n",
        "\n",
        "def kelvin_to_fahrenheit(kelvin):\n",
        "    return (kelvin - 273.15) * 9/5 + 32\n",
        "\n",
        "def convert_temperature():\n",
        "    print(\"Welcome to the Temperature Conversion Program!\")\n",
        "    try:\n",
        "        temperature = float(input(\"Enter the temperature value: \"))\n",
        "        unit = input(\"Enter the unit (Celsius, Fahrenheit, Kelvin): \").strip().lower()\n",
        "\n",
        "        if unit == \"celsius\":\n",
        "            fahrenheit = celsius_to_fahrenheit(temperature)\n",
        "            kelvin = celsius_to_kelvin(temperature)\n",
        "            print(f\"\\n{temperature}°C is equal to:\")\n",
        "            print(f\"{fahrenheit:.2f}°F\")\n",
        "            print(f\"{kelvin:.2f} K\")\n",
        "\n",
        "        elif unit == \"fahrenheit\":\n",
        "            celsius = fahrenheit_to_celsius(temperature)\n",
        "            kelvin = fahrenheit_to_kelvin(temperature)\n",
        "            print(f\"\\n{temperature}°F is equal to:\")\n",
        "            print(f\"{celsius:.2f}°C\")\n",
        "            print(f\"{kelvin:.2f} K\")\n",
        "\n",
        "        elif unit == \"kelvin\":\n",
        "            celsius = kelvin_to_celsius(temperature)\n",
        "            fahrenheit = kelvin_to_fahrenheit(temperature)\n",
        "            print(f\"\\n{temperature} K is equal to:\")\n",
        "            print(f\"{celsius:.2f}°C\")\n",
        "            print(f\"{fahrenheit:.2f}°F\")\n",
        "\n",
        "        else:\n",
        "            print(\"Invalid unit entered. Please enter Celsius, Fahrenheit, or Kelvin.\")\n",
        "    except ValueError:\n",
        "        print(\"Please enter a valid numeric temperature.\")\n",
        "\n",
        "# Run the program\n",
        "convert_temperature()\n"
      ]
    },
    {
      "cell_type": "code",
      "source": [],
      "metadata": {
        "id": "Fiw1tbh-WXZW"
      },
      "execution_count": null,
      "outputs": []
    }
  ]
}